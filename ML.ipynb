{
 "cells": [
  {
   "cell_type": "code",
   "execution_count": 1,
   "metadata": {},
   "outputs": [],
   "source": [
    "%load_ext autoreload"
   ]
  },
  {
   "cell_type": "code",
   "execution_count": 2,
   "metadata": {},
   "outputs": [],
   "source": [
    "%autoreload 2"
   ]
  },
  {
   "cell_type": "code",
   "execution_count": 3,
   "metadata": {},
   "outputs": [
    {
     "name": "stdout",
     "output_type": "stream",
     "text": [
      "\n",
      "Starting to make sentiment features, this will take some time...\n",
      "Finished making sentiment features.\n",
      "\n",
      "Starting to make sentiment features, this will take some time...\n",
      "Finished making sentiment features.\n",
      "\n",
      "Class values: \n",
      "[0 0 0 ... 2 2 2]\n",
      "\n",
      "Feature array: \n",
      "[[0.         0.         0.         ... 0.         0.         0.77023855]\n",
      " [0.         0.         0.         ... 0.         0.         0.98170133]\n",
      " [0.         0.         0.         ... 0.         0.         0.39076287]\n",
      " ...\n",
      " [0.         0.         0.         ... 0.         0.         0.58774326]\n",
      " [0.         0.         0.         ... 0.         0.         0.59297108]\n",
      " [0.         0.         0.         ... 0.         3.         0.99305766]]\n"
     ]
    }
   ],
   "source": [
    "# Main file that is used for performing experiments.\n",
    "\n",
    "import matplotlib.pyplot as plt\n",
    "import numpy as np\n",
    "from mlxtend.plotting import plot_decision_regions\n",
    "from sklearn import svm\n",
    "from sklearn.feature_extraction.text import CountVectorizer, TfidfVectorizer\n",
    "from sklearn.metrics import accuracy_score\n",
    "from sklearn.model_selection import train_test_split\n",
    "from sklearn.pipeline import FeatureUnion\n",
    "from sklearn import model_selection\n",
    "\n",
    "from confusion_matrix import plot_confusion_matrix\n",
    "from data_processing import get_data\n",
    "from metric_labeling import metric_labeling, train_nnc\n",
    "from polarity_feature import make_polarity_features\n",
    "from util import Author\n",
    "\n",
    "# Load preprocessed data.\n",
    "data, sentences = get_data(Author.SCHWARTZ)\n",
    "\n",
    "y = data.iloc[:, 1].values\n",
    "possible_labels = np.unique(y)\n",
    "# Split training data\n",
    "data_train, data_test, labels_train, labels_test = train_test_split(sentences, y,\n",
    "                                                                    test_size=0.20,\n",
    "                                                                    random_state=42)\n",
    "\n",
    "vectorizer_tf = TfidfVectorizer(max_features=12000)\n",
    "# X_tf_train = vectorizer_tf.fit_transform(data_train)\n",
    "# X_tf_test = vectorizer_tf.transform(data_test)\n",
    "\n",
    "# This vocabulary can be extended with other words\n",
    "my_vocabulary = [\"?\"]\n",
    "vectorizer_voc = CountVectorizer(vocabulary=my_vocabulary,\n",
    "                                 token_pattern=r\"(?u)\\b\\w\\w+\\b|\\?\")\n",
    "# X_voc_train = vectorizer_voc.fit_transform(data_train)\n",
    "# X_voc_test = vectorizer_voc.transform(data_test)\n",
    "\n",
    "X_combined_train = FeatureUnion([('TfidfVectorizer', vectorizer_tf), ('CountVectorizer', vectorizer_voc)])\n",
    "X_combined_train = X_combined_train.fit_transform(data_train).todense()\n",
    "\n",
    "X_combined_test = FeatureUnion([('TfidfVectorizer', vectorizer_tf), ('CountVectorizer', vectorizer_voc)])\n",
    "X_combined_test = X_combined_test.transform(data_test).todense()\n",
    "\n",
    "PSP_array_train, last_sentence_sentiment_array_train, first_sentence_sentiment_array_train = make_polarity_features(data_train)\n",
    "PSP_array_test, last_sentence_sentiment_array_test, first_sentence_sentiment_array_test = make_polarity_features(data_test)\n",
    "\n",
    "# # Append these features to the original feature matrix\n",
    "# X_combined_train = np.hstack((X_combined_train, np.asmatrix(PSP_array_train)))\n",
    "X_combined_train = np.hstack(\n",
    "    (X_combined_train, np.asmatrix(last_sentence_sentiment_array_train)))\n",
    "# #X_combined_train = np.hstack(\n",
    "# #    (X_combined_train, np.asmatrix(first_sentence_sentiment_array_train)))\n",
    "\n",
    "# X_combined_test = np.hstack((X_combined_test, np.asmatrix(PSP_array_test)))\n",
    "X_combined_test = np.hstack(\n",
    "    (X_combined_test, np.asmatrix(last_sentence_sentiment_array_test)))\n",
    "# #X_combined_test = np.hstack(\n",
    "# #    (X_combined_test, np.asmatrix(first_sentence_sentiment_array_test)))\n",
    "\n",
    "y = data['class'].values\n",
    "print(\"\\nClass values: \")\n",
    "print(str(y))\n",
    "\n",
    "print(\"\\nFeature array: \")\n",
    "print(X_combined_train)\n"
   ]
  },
  {
   "cell_type": "code",
   "execution_count": 4,
   "metadata": {},
   "outputs": [
    {
     "name": "stdout",
     "output_type": "stream",
     "text": [
      "0.6359223300970874\n",
      "Confusion matrix, without normalization\n",
      "[[45 26  4]\n",
      " [14 62 12]\n",
      " [ 0 19 24]]\n"
     ]
    },
    {
     "data": {
      "image/png": "[encoded data removed]",
      "text/plain": [
       "<Figure size 432x288 with 2 Axes>"
      ]
     },
     "metadata": {
      "needs_background": "light"
     },
     "output_type": "display_data"
    }
   ],
   "source": [
    "# SVC OVO\n",
    "clf = svm.SVC(gamma=0.334, C=2.8, decision_function_shape='ovo')\n",
    "clf.fit(X_combined_train, labels_train)\n",
    "y_predicted = clf.predict(X_combined_test)\n",
    "print(accuracy_score(labels_test, y_predicted))\n",
    "plot_confusion_matrix(labels_test, y_predicted, np.array(('0', '1', '2')))\n",
    "plt.show()\n"
   ]
  },
  {
   "cell_type": "code",
   "execution_count": 41,
   "metadata": {},
   "outputs": [
    {
     "name": "stdout",
     "output_type": "stream",
     "text": [
      "0.529126213592233\n",
      "Confusion matrix, without normalization\n",
      "[[41 33  1]\n",
      " [17 65  6]\n",
      " [ 2 38  3]]\n"
     ]
    },
    {
     "data": {
      "image/png": "[encoded data removed]",
      "text/plain": [
       "<Figure size 432x288 with 2 Axes>"
      ]
     },
     "metadata": {
      "needs_background": "light"
     },
     "output_type": "display_data"
    }
   ],
   "source": [
    "# Metric labeling\n",
    "PSP_array_train = [[x[0], 1-x[0]] for x in PSP_array_train]\n",
    "PSP_array_test = [[x[0], 1-x[0]] for x in PSP_array_test]\n",
    "\n",
    "clf = svm.SVC(gamma=0.334, C=2.8, decision_function_shape='ovo')\n",
    "clf.fit(X_combined_train, labels_train)\n",
    "preferences = clf.decision_function(X_combined_train)\n",
    "\n",
    "k_param = 9\n",
    "nnc = train_nnc(PSP_array_train, k=k_param)\n",
    "y_predicted = metric_labeling(PSP_array_train, labels_train, PSP_array_test, preferences, possible_labels, nnc, alpha=13.172, k=k_param)\n",
    "print(accuracy_score(labels_test, y_predicted))\n",
    "plot_confusion_matrix(labels_test, y_predicted, np.array(('0', '1', '2')))\n",
    "plt.show()\n"
   ]
  },
  {
   "cell_type": "code",
   "execution_count": 3,
   "metadata": {},
   "outputs": [
    {
     "data": {
      "text/plain": [
       "(821, 12002)"
      ]
     },
     "execution_count": 3,
     "metadata": {},
     "output_type": "execute_result"
    }
   ],
   "source": [
    "X_combined_train.shape"
   ]
  },
  {
   "cell_type": "code",
   "execution_count": 5,
   "metadata": {},
   "outputs": [],
   "source": [
    "from scipy.optimize import minimize\n",
    "from metric_labeling import metric_labeling_opt\n",
    "# Metric labeling\n",
    "PSP_array_train = [[x[0], 1-x[0]] for x in PSP_array_train]\n",
    "PSP_array_test = [[x[0], 1-x[0]] for x in PSP_array_test]\n",
    "\n",
    "clf = svm.SVC(gamma=0.334, C=2.8, decision_function_shape='ovo')\n",
    "clf.fit(X_combined_train, labels_train)\n",
    "preferences = clf.decision_function(X_combined_train)\n"
   ]
  },
  {
   "cell_type": "code",
   "execution_count": 33,
   "metadata": {},
   "outputs": [
    {
     "name": "stdout",
     "output_type": "stream",
     "text": [
      "     fun: 223.0\n",
      "     jac: array([0., 0.])\n",
      " message: 'Optimization terminated successfully.'\n",
      "    nfev: 8\n",
      "     nit: 2\n",
      "    njev: 2\n",
      "  status: 0\n",
      " success: True\n",
      "       x: array([2.94209102e-15, 1.00000000e+00])\n"
     ]
    }
   ],
   "source": [
    "from metric_labeling import metric_labeling_opt\n",
    "res = minimize(metric_labeling_opt, ([0.2, 5]), args=(PSP_array_train, labels_train, PSP_array_test, preferences, possible_labels), method=\"Powell\", tol=1e-5)\n",
    "print(res.fun)\n",
    "print(res.x)"
   ]
  },
  {
   "cell_type": "code",
   "execution_count": null,
   "metadata": {},
   "outputs": [],
   "source": []
  }
 ],
 "metadata": {
  "kernelspec": {
   "display_name": "Python 3",
   "language": "python",
   "name": "python3"
  },
  "language_info": {
   "codemirror_mode": {
    "name": "ipython",
    "version": 3
   },
   "file_extension": ".py",
   "mimetype": "text/x-python",
   "name": "python",
   "nbconvert_exporter": "python",
   "pygments_lexer": "ipython3",
   "version": "3.5.6"
  }
 },
 "nbformat": 4,
 "nbformat_minor": 2
}
